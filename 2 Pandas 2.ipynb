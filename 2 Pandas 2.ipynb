{
  "cells": [
    {
      "cell_type": "markdown",
      "metadata": {
        "id": "7UdbG06MOuBE"
      },
      "source": [
        "## <a name=\"section3\"></a> **Задания по Pandas и Sleep statistics**\n",
        "## Задание 1 ★☆☆\n",
        "Для выполнения следующих заданий загрузите [тренировочный датасет](https://www.kaggle.com/datasets/hanaksoy/health-and-sleep-statistics) с данными о физической активности и качестве сна некоторых людей и изучите его описание. Загрузите датафрейм в переменную data.\n",
        "\n",
        "С помощью группировки посчитайте среднюю оценку сна в разрезе пола ('Gender'). Сохраните в переменную `max_mean_sleep_quality_gender` пол, которому соответствует наибольшая средняя оценка сна, а в переменную `diff_mean_sleep_quality` модуль разницы средних оценок.\n",
        "\n",
        "Подсказка: idxmax"
      ]
    },
    {
      "cell_type": "code",
      "execution_count": 80,
      "metadata": {},
      "outputs": [],
      "source": [
        "import pandas as pd"
      ]
    },
    {
      "cell_type": "code",
      "execution_count": 81,
      "metadata": {
        "id": "MH4dpJEeO0A7"
      },
      "outputs": [
        {
          "name": "stdout",
          "output_type": "stream",
          "text": [
            "f спят лучше на 2.84\n"
          ]
        }
      ],
      "source": [
        "data = pd.read_csv('Health_Sleep_Statistics.csv')\n",
        "\n",
        "mean_sleep_quality_by_gender = data.groupby('Gender')['Sleep Quality'].mean()\n",
        "\n",
        "max_mean_sleep_quality_gender = mean_sleep_quality_by_gender.idxmax()\n",
        "\n",
        "diff_mean_sleep_quality = abs(mean_sleep_quality_by_gender['f'] - mean_sleep_quality_by_gender['m'])\n",
        "\n",
        "print(f'{max_mean_sleep_quality_gender} спят лучше на {diff_mean_sleep_quality}')"
      ]
    },
    {
      "cell_type": "markdown",
      "metadata": {
        "id": "PHoqd23zO2Ex"
      },
      "source": [
        "## Задание 2 ★☆☆\n",
        "Выведите и изучите типы столбцов. Найдите минимальное и максимальное время отхода ко сну и пробуждения."
      ]
    },
    {
      "cell_type": "code",
      "execution_count": 82,
      "metadata": {
        "id": "lHx8EAtkO4Vh"
      },
      "outputs": [
        {
          "name": "stdout",
          "output_type": "stream",
          "text": [
            "User ID                     int64\n",
            "Age                         int64\n",
            "Gender                     object\n",
            "Sleep Quality               int64\n",
            "Bedtime                    object\n",
            "Wake-up Time               object\n",
            "Daily Steps                 int64\n",
            "Calories Burned             int64\n",
            "Physical Activity Level    object\n",
            "Dietary Habits             object\n",
            "Sleep Disorders            object\n",
            "Medication Usage           object\n",
            "dtype: object\n",
            "00:15 06:00\n",
            "23:45 07:30\n"
          ]
        }
      ],
      "source": [
        "print(data.dtypes)\n",
        "\n",
        "min_bedtime = min(data['Bedtime'])\n",
        "min_wake_up_time = min(data['Wake-up Time'])\n",
        "\n",
        "print(' '.join([min_bedtime, min_wake_up_time])) # Ответ\n",
        "\n",
        "max_bedtime = max(data['Bedtime'])\n",
        "max_wake_up_time = max(data['Wake-up Time'])\n",
        "print(' '.join([max_bedtime, max_wake_up_time])) # Ответ"
      ]
    },
    {
      "cell_type": "markdown",
      "metadata": {
        "id": "sm5pW_j8O6gJ"
      },
      "source": [
        "## Задание 3 ★★☆\n",
        "Приведите столбцы `Bedtime` и `Wake-up Time` к типу даты (datetime) и сохраните только часы из даты в новых столбцах `bedtime_hour` и `wake_up_time_hour`. Аналогично предыдущему заданию найдите минимальное и максимальное время отхода ко сну и пробуждения.\n",
        "\n",
        "Подсказка: to_datetime, dt.hour"
      ]
    },
    {
      "cell_type": "code",
      "execution_count": 83,
      "metadata": {
        "id": "NybxQhk1O8if"
      },
      "outputs": [
        {
          "name": "stdout",
          "output_type": "stream",
          "text": [
            "0 6\n",
            "23 7\n"
          ]
        }
      ],
      "source": [
        "data['bedtime_dt'] = pd.to_datetime(data['Bedtime'], format='%H:%M')\n",
        "data['wake_up_time_dt'] = pd.to_datetime(data['Wake-up Time'], format='%H:%M')\n",
        "\n",
        "data['bedtime_hour'] = data['bedtime_dt'].dt.hour\n",
        "data['wake_up_time_hour'] = data['wake_up_time_dt'].dt.hour\n",
        "\n",
        "min_bedtime = data['bedtime_hour'].min()\n",
        "min_wake_up_time = data['wake_up_time_hour'].min()\n",
        "print(' '.join(map(str, [min_bedtime, min_wake_up_time]))) # Ответ\n",
        "\n",
        "max_bedtime = data['bedtime_hour'].max()\n",
        "max_wake_up_time = data['wake_up_time_hour'].max()\n",
        "print(' '.join(map(str, [max_bedtime, max_wake_up_time]))) # Ответ"
      ]
    },
    {
      "cell_type": "markdown",
      "metadata": {
        "id": "-aR9IEf6O-mv"
      },
      "source": [
        "## Задание 4 ★★☆\n",
        "Найдите продолжительность сна в часах, используя столбцы, созданные на предыдущем шаге, и сохраните значения в новый столбец `sleep_duration_hours`. Найдите максимальную продолжительность сна."
      ]
    },
    {
      "cell_type": "code",
      "execution_count": 84,
      "metadata": {
        "id": "0U5FjA3wPB36"
      },
      "outputs": [
        {
          "name": "stdout",
          "output_type": "stream",
          "text": [
            "Максимальная продолжительность сна - 9\n"
          ]
        }
      ],
      "source": [
        "data['sleep_duration_hours'] = (data['wake_up_time_hour'] - data['bedtime_hour']) % 24\n",
        "max_sleep_duration = data['sleep_duration_hours'].max()\n",
        "\n",
        "print(f'Максимальная продолжительность сна - {max_sleep_duration}') # Ответ"
      ]
    },
    {
      "cell_type": "markdown",
      "metadata": {
        "id": "7EtMGBIHPD16"
      },
      "source": [
        "## Задание 5 ★☆☆\n",
        "Посчитайте, какая доля мужчин и женщин ложится спать до полуночи."
      ]
    },
    {
      "cell_type": "code",
      "execution_count": 99,
      "metadata": {
        "id": "P5e4Ga8jPF0f"
      },
      "outputs": [
        {
          "name": "stdout",
          "output_type": "stream",
          "text": [
            "0.98, 0.02\n"
          ]
        }
      ],
      "source": [
        "data['bedtime_before_midnight'] = data['bedtime_hour'] > 1\n",
        "\n",
        "female_bedtime_before_midnight = data[data['Gender'] == 'f']['bedtime_before_midnight'].mean()\n",
        "male_bedtime_before_midnight = data[data['Gender'] == 'm']['bedtime_before_midnight'].mean()\n",
        "\n",
        "print(\"{:.2f}, {:.2f}\".format(female_bedtime_before_midnight, male_bedtime_before_midnight)) # Ответ"
      ]
    },
    {
      "cell_type": "markdown",
      "metadata": {
        "id": "8sn115tbPJ8q"
      },
      "source": [
        "## Задание 6 ★☆☆\n",
        "Найдите, какой уровень физической активности (`Physical Activity Level`) преобладает у людей, которые ложатся после полуночи."
      ]
    },
    {
      "cell_type": "code",
      "execution_count": 100,
      "metadata": {
        "id": "xOWH02QEPNlc"
      },
      "outputs": [
        {
          "name": "stdout",
          "output_type": "stream",
          "text": [
            "Наиболее популярный уровень физической активности у поздно ложащихся людей - high\n"
          ]
        }
      ],
      "source": [
        "late_sleepers = data[data['bedtime_before_midnight']]\n",
        "\n",
        "frequently_activity_level = late_sleepers['Physical Activity Level'].mode()[0]\n",
        "\n",
        "print(f'Наиболее популярный уровень физической активности у поздно ложащихся людей - {frequently_activity_level}') # Ответ"
      ]
    }
  ],
  "metadata": {
    "colab": {
      "provenance": []
    },
    "kernelspec": {
      "display_name": "Python 3",
      "name": "python3"
    },
    "language_info": {
      "codemirror_mode": {
        "name": "ipython",
        "version": 3
      },
      "file_extension": ".py",
      "mimetype": "text/x-python",
      "name": "python",
      "nbconvert_exporter": "python",
      "pygments_lexer": "ipython3",
      "version": "3.13.2"
    }
  },
  "nbformat": 4,
  "nbformat_minor": 0
}
